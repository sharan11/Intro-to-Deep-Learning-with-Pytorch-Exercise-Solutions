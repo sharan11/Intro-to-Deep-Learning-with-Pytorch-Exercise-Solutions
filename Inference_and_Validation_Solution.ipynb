{
  "nbformat": 4,
  "nbformat_minor": 0,
  "metadata": {
    "colab": {
      "name": "Inference and Validation Solution.ipynb",
      "provenance": [],
      "collapsed_sections": [],
      "include_colab_link": true
    },
    "kernelspec": {
      "name": "python3",
      "display_name": "Python 3"
    }
  },
  "cells": [
    {
      "cell_type": "markdown",
      "metadata": {
        "id": "view-in-github",
        "colab_type": "text"
      },
      "source": [
        "<a href=\"https://colab.research.google.com/github/sharan11/Intro-to-Deep-Learning-with-Pytorch-Exercise-Solutions/blob/master/Inference_and_Validation_Solution.ipynb\" target=\"_parent\"><img src=\"https://colab.research.google.com/assets/colab-badge.svg\" alt=\"Open In Colab\"/></a>"
      ]
    },
    {
      "cell_type": "markdown",
      "metadata": {
        "id": "Asje0k9Ux1MN",
        "colab_type": "text"
      },
      "source": [
        "## Inference and Validation"
      ]
    },
    {
      "cell_type": "code",
      "metadata": {
        "id": "QnoqwOezxoP5",
        "colab_type": "code",
        "outputId": "5af71ea0-b2c0-464f-95c8-636da2956327",
        "colab": {
          "base_uri": "https://localhost:8080/",
          "height": 275
        }
      },
      "source": [
        "import torch\n",
        "from torchvision import datasets, transforms\n",
        "\n",
        "# Define a transform to normalize the data\n",
        "transform = transforms.Compose([transforms.ToTensor(),\n",
        "                                transforms.Normalize((0.5,), (0.5,))])\n",
        "# Download and load the training data\n",
        "trainset = datasets.FashionMNIST('~/.pytorch/F_MNIST_data/', download=True, \n",
        "                                 train=True, transform=transform)\n",
        "trainloader = torch.utils.data.DataLoader(trainset, batch_size=64, shuffle=True)\n",
        "\n",
        "# Download and load the test data/\n",
        "testset = datasets.FashionMNIST('~/.pytorch/F_MNIST_data/', download=True, \n",
        "                                train=False, transform=transform)\n",
        "testloader = torch.utils.data.DataLoader(testset, batch_size=64, shuffle=True)"
      ],
      "execution_count": 4,
      "outputs": [
        {
          "output_type": "stream",
          "text": [
            "\r0it [00:00, ?it/s]"
          ],
          "name": "stderr"
        },
        {
          "output_type": "stream",
          "text": [
            "Downloading http://fashion-mnist.s3-website.eu-central-1.amazonaws.com/train-images-idx3-ubyte.gz to /root/.pytorch/F_MNIST_data/FashionMNIST/raw/train-images-idx3-ubyte.gz\n"
          ],
          "name": "stdout"
        },
        {
          "output_type": "stream",
          "text": [
            "26427392it [00:02, 10676807.87it/s]                             \n"
          ],
          "name": "stderr"
        },
        {
          "output_type": "stream",
          "text": [
            "Extracting /root/.pytorch/F_MNIST_data/FashionMNIST/raw/train-images-idx3-ubyte.gz to /root/.pytorch/F_MNIST_data/FashionMNIST/raw\n"
          ],
          "name": "stdout"
        },
        {
          "output_type": "stream",
          "text": [
            "\r0it [00:00, ?it/s]"
          ],
          "name": "stderr"
        },
        {
          "output_type": "stream",
          "text": [
            "Downloading http://fashion-mnist.s3-website.eu-central-1.amazonaws.com/train-labels-idx1-ubyte.gz to /root/.pytorch/F_MNIST_data/FashionMNIST/raw/train-labels-idx1-ubyte.gz\n"
          ],
          "name": "stdout"
        },
        {
          "output_type": "stream",
          "text": [
            "32768it [00:00, 75875.78it/s]                            \n",
            "0it [00:00, ?it/s]"
          ],
          "name": "stderr"
        },
        {
          "output_type": "stream",
          "text": [
            "Extracting /root/.pytorch/F_MNIST_data/FashionMNIST/raw/train-labels-idx1-ubyte.gz to /root/.pytorch/F_MNIST_data/FashionMNIST/raw\n",
            "Downloading http://fashion-mnist.s3-website.eu-central-1.amazonaws.com/t10k-images-idx3-ubyte.gz to /root/.pytorch/F_MNIST_data/FashionMNIST/raw/t10k-images-idx3-ubyte.gz\n"
          ],
          "name": "stdout"
        },
        {
          "output_type": "stream",
          "text": [
            "4423680it [00:01, 3125419.43it/s]                            \n",
            "0it [00:00, ?it/s]"
          ],
          "name": "stderr"
        },
        {
          "output_type": "stream",
          "text": [
            "Extracting /root/.pytorch/F_MNIST_data/FashionMNIST/raw/t10k-images-idx3-ubyte.gz to /root/.pytorch/F_MNIST_data/FashionMNIST/raw\n",
            "Downloading http://fashion-mnist.s3-website.eu-central-1.amazonaws.com/t10k-labels-idx1-ubyte.gz to /root/.pytorch/F_MNIST_data/FashionMNIST/raw/t10k-labels-idx1-ubyte.gz\n"
          ],
          "name": "stdout"
        },
        {
          "output_type": "stream",
          "text": [
            "8192it [00:00, 25306.68it/s]            "
          ],
          "name": "stderr"
        },
        {
          "output_type": "stream",
          "text": [
            "Extracting /root/.pytorch/F_MNIST_data/FashionMNIST/raw/t10k-labels-idx1-ubyte.gz to /root/.pytorch/F_MNIST_data/FashionMNIST/raw\n",
            "Processing...\n",
            "Done!\n"
          ],
          "name": "stdout"
        },
        {
          "output_type": "stream",
          "text": [
            "\n"
          ],
          "name": "stderr"
        }
      ]
    },
    {
      "cell_type": "code",
      "metadata": {
        "id": "hPaPsOOS2OQI",
        "colab_type": "code",
        "colab": {}
      },
      "source": [
        "from torch import nn, optim\n",
        "import torch.nn.functional as F\n",
        "\n",
        "class Classifier(nn.Module):\n",
        "    def __init__(self):\n",
        "        super().__init__()\n",
        "        self.fc1 = nn.Linear(784, 256)\n",
        "        self.fc2 = nn.Linear(256, 128)\n",
        "        self.fc3 = nn.Linear(128, 64)\n",
        "        self.fc4 = nn.Linear(64, 10)\n",
        "        \n",
        "    def forward(self, x):\n",
        "        # make sure input tensor is flattened\n",
        "        x = x.view(x.shape[0], -1)\n",
        "        \n",
        "        x = F.relu(self.fc1(x))\n",
        "        x = F.relu(self.fc2(x))\n",
        "        x = F.relu(self.fc3(x))\n",
        "        x = F.log_softmax(self.fc4(x), dim=1)\n",
        "        \n",
        "        return x"
      ],
      "execution_count": 0,
      "outputs": []
    },
    {
      "cell_type": "code",
      "metadata": {
        "id": "fWeNjIqL2-Iq",
        "colab_type": "code",
        "outputId": "80401140-55f6-4818-9b9b-51e8f4ede678",
        "colab": {
          "base_uri": "https://localhost:8080/",
          "height": 34
        }
      },
      "source": [
        "model = Classifier()\n",
        "\n",
        "images, labels = next(iter(testloader))\n",
        "# Get the class probabilities\n",
        "ps = torch.exp(model(images))\n",
        "# Make sure the shape is appropriate, we should get 10 class probabilities for 64 examples\n",
        "print(ps.shape)"
      ],
      "execution_count": 0,
      "outputs": [
        {
          "output_type": "stream",
          "text": [
            "torch.Size([64, 10])\n"
          ],
          "name": "stdout"
        }
      ]
    },
    {
      "cell_type": "code",
      "metadata": {
        "id": "mjJkFgjO5Zkx",
        "colab_type": "code",
        "outputId": "c865888b-6fdf-420b-c074-b31d2993ec31",
        "colab": {
          "base_uri": "https://localhost:8080/",
          "height": 187
        }
      },
      "source": [
        "top_p, top_class = ps.topk(1, dim=1)\n",
        "# Look at the most likely classes for the first 10 examples\n",
        "print(top_class[:10,:])"
      ],
      "execution_count": 0,
      "outputs": [
        {
          "output_type": "stream",
          "text": [
            "tensor([[9],\n",
            "        [9],\n",
            "        [9],\n",
            "        [9],\n",
            "        [9],\n",
            "        [9],\n",
            "        [9],\n",
            "        [9],\n",
            "        [9],\n",
            "        [9]])\n"
          ],
          "name": "stdout"
        }
      ]
    },
    {
      "cell_type": "code",
      "metadata": {
        "id": "G3a-YGUT6dse",
        "colab_type": "code",
        "colab": {}
      },
      "source": [
        "equals = top_class == labels.view(*top_class.shape)"
      ],
      "execution_count": 0,
      "outputs": []
    },
    {
      "cell_type": "code",
      "metadata": {
        "id": "Ihf-MAHm76vS",
        "colab_type": "code",
        "outputId": "fb26247b-1f03-410c-dae9-9007c7f5f277",
        "colab": {
          "base_uri": "https://localhost:8080/",
          "height": 34
        }
      },
      "source": [
        "accuracy = torch.mean(equals.type(torch.FloatTensor))\n",
        "print(f'Accuracy: {accuracy.item()*100}%')"
      ],
      "execution_count": 0,
      "outputs": [
        {
          "output_type": "stream",
          "text": [
            "Accuracy: 12.5%\n"
          ],
          "name": "stdout"
        }
      ]
    },
    {
      "cell_type": "markdown",
      "metadata": {
        "id": "LIpJOQwE8rhr",
        "colab_type": "text"
      },
      "source": [
        "**Exercise**: Implement the validation loop below and print out the total accuracy after the loop. You can largely copy and paste the code from above, but I suggest typing it in because writing it out yourself is essential for building the skill. In general you'll always learn more by typing it rather than copy-pasting. You should be able to get an accuracy above 80%."
      ]
    },
    {
      "cell_type": "code",
      "metadata": {
        "id": "6MBA41lZ8SwN",
        "colab_type": "code",
        "outputId": "23074009-2225-4d23-e03c-9ba279461a23",
        "colab": {
          "base_uri": "https://localhost:8080/",
          "height": 527
        }
      },
      "source": [
        "model = Classifier()\n",
        "criterion = nn.NLLLoss()\n",
        "optimizer = optim.Adam(model.parameters(), lr=0.003)\n",
        "\n",
        "epochs = 30\n",
        "steps = 0\n",
        "\n",
        "train_losses, test_losses = [], []\n",
        "for e in range(epochs):\n",
        "    running_loss = 0\n",
        "    for images, labels in trainloader: \n",
        "        optimizer.zero_grad()\n",
        "        log_ps = model(images)\n",
        "        loss = criterion(log_ps, labels)\n",
        "        loss.backward()\n",
        "        optimizer.step()\n",
        "        \n",
        "        running_loss += loss.item()\n",
        "        \n",
        "    else:\n",
        "        test_loss = 0\n",
        "        accuracy = 0\n",
        "        with torch.no_grad():\n",
        "          for images, labels in testloader:\n",
        "            log_ps = model(images)\n",
        "            test_loss += criterion(log_ps, labels)\n",
        "            ps = torch.exp(log_ps)\n",
        "            top_p, top_class = ps.topk(1, dim=1)\n",
        "            equals = top_class == labels.view(*top_class.shape)\n",
        "            accuracy += torch.mean(equals.type(torch.FloatTensor))\n",
        "        \n",
        "        train_losses.append(running_loss/len(trainloader))\n",
        "        test_losses.append(test_loss/len(testloader))\n",
        "\n",
        "        print(\"Epoch: {}/{}.. \".format(e+1, epochs),\n",
        "              \"Training Loss: {:.3f}.. \".format(running_loss/len(trainloader)),\n",
        "              \"Test Loss: {:.3f}.. \".format(test_loss/len(testloader)),\n",
        "              \"Test Accuracy: {:.3f}\".format(accuracy/len(testloader)))"
      ],
      "execution_count": 0,
      "outputs": [
        {
          "output_type": "stream",
          "text": [
            "Epoch: 1/30..  Training Loss: 0.516..  Test Loss: 0.476..  Test Accuracy: 0.829\n",
            "Epoch: 2/30..  Training Loss: 0.391..  Test Loss: 0.432..  Test Accuracy: 0.840\n",
            "Epoch: 3/30..  Training Loss: 0.362..  Test Loss: 0.413..  Test Accuracy: 0.855\n",
            "Epoch: 4/30..  Training Loss: 0.335..  Test Loss: 0.406..  Test Accuracy: 0.853\n",
            "Epoch: 5/30..  Training Loss: 0.317..  Test Loss: 0.383..  Test Accuracy: 0.859\n",
            "Epoch: 6/30..  Training Loss: 0.304..  Test Loss: 0.358..  Test Accuracy: 0.875\n",
            "Epoch: 7/30..  Training Loss: 0.293..  Test Loss: 0.373..  Test Accuracy: 0.872\n",
            "Epoch: 8/30..  Training Loss: 0.281..  Test Loss: 0.367..  Test Accuracy: 0.875\n",
            "Epoch: 9/30..  Training Loss: 0.273..  Test Loss: 0.379..  Test Accuracy: 0.875\n",
            "Epoch: 10/30..  Training Loss: 0.268..  Test Loss: 0.368..  Test Accuracy: 0.874\n",
            "Epoch: 11/30..  Training Loss: 0.259..  Test Loss: 0.356..  Test Accuracy: 0.875\n",
            "Epoch: 12/30..  Training Loss: 0.259..  Test Loss: 0.365..  Test Accuracy: 0.875\n",
            "Epoch: 13/30..  Training Loss: 0.247..  Test Loss: 0.364..  Test Accuracy: 0.877\n",
            "Epoch: 14/30..  Training Loss: 0.246..  Test Loss: 0.378..  Test Accuracy: 0.876\n",
            "Epoch: 15/30..  Training Loss: 0.239..  Test Loss: 0.367..  Test Accuracy: 0.880\n",
            "Epoch: 16/30..  Training Loss: 0.237..  Test Loss: 0.392..  Test Accuracy: 0.871\n",
            "Epoch: 17/30..  Training Loss: 0.228..  Test Loss: 0.398..  Test Accuracy: 0.873\n",
            "Epoch: 18/30..  Training Loss: 0.224..  Test Loss: 0.391..  Test Accuracy: 0.877\n",
            "Epoch: 19/30..  Training Loss: 0.215..  Test Loss: 0.402..  Test Accuracy: 0.881\n",
            "Epoch: 20/30..  Training Loss: 0.217..  Test Loss: 0.379..  Test Accuracy: 0.886\n",
            "Epoch: 21/30..  Training Loss: 0.217..  Test Loss: 0.387..  Test Accuracy: 0.881\n",
            "Epoch: 22/30..  Training Loss: 0.208..  Test Loss: 0.384..  Test Accuracy: 0.879\n",
            "Epoch: 23/30..  Training Loss: 0.199..  Test Loss: 0.394..  Test Accuracy: 0.884\n",
            "Epoch: 24/30..  Training Loss: 0.207..  Test Loss: 0.424..  Test Accuracy: 0.880\n",
            "Epoch: 25/30..  Training Loss: 0.193..  Test Loss: 0.398..  Test Accuracy: 0.882\n",
            "Epoch: 26/30..  Training Loss: 0.197..  Test Loss: 0.404..  Test Accuracy: 0.884\n",
            "Epoch: 27/30..  Training Loss: 0.192..  Test Loss: 0.406..  Test Accuracy: 0.886\n",
            "Epoch: 28/30..  Training Loss: 0.188..  Test Loss: 0.438..  Test Accuracy: 0.878\n",
            "Epoch: 29/30..  Training Loss: 0.189..  Test Loss: 0.434..  Test Accuracy: 0.884\n",
            "Epoch: 30/30..  Training Loss: 0.185..  Test Loss: 0.406..  Test Accuracy: 0.884\n"
          ],
          "name": "stdout"
        }
      ]
    },
    {
      "cell_type": "markdown",
      "metadata": {
        "id": "e1ZnMHS1tOWm",
        "colab_type": "text"
      },
      "source": [
        "**Exercise**: Add dropout to your model and train it on Fashion-MNIST again. See if you can get a lower validation loss or higher accuracy"
      ]
    },
    {
      "cell_type": "code",
      "metadata": {
        "id": "E-A6GP07-Bae",
        "colab_type": "code",
        "colab": {}
      },
      "source": [
        "## TODO: Define your model with dropout added\n",
        "from torch import nn, optim\n",
        "import torch.nn.functional as F\n",
        "class Classifier(nn.Module):\n",
        "    def __init__(self):\n",
        "        super().__init__()\n",
        "        self.fc1 = nn.Linear(784, 256)\n",
        "        self.fc2 = nn.Linear(256, 128)\n",
        "        self.fc3 = nn.Linear(128, 64)\n",
        "        self.fc4 = nn.Linear(64, 10)\n",
        "\n",
        "        # Dropout module with 0.2 drop probability\n",
        "        self.dropout = nn.Dropout(p=0.2)\n",
        "\n",
        "    def forward(self, x):\n",
        "        # make sure input tensor is flattened\n",
        "        x = x.view(x.shape[0], -1)\n",
        "\n",
        "        # Now with dropout\n",
        "        x = self.dropout(F.relu(self.fc1(x)))\n",
        "        x = self.dropout(F.relu(self.fc2(x)))\n",
        "        x = self.dropout(F.relu(self.fc3(x)))\n",
        "\n",
        "        # output so no dropout here\n",
        "        x = F.log_softmax(self.fc4(x), dim=1)\n",
        "\n",
        "        return x"
      ],
      "execution_count": 0,
      "outputs": []
    },
    {
      "cell_type": "code",
      "metadata": {
        "id": "GWVPy-YitLoW",
        "colab_type": "code",
        "colab": {
          "base_uri": "https://localhost:8080/",
          "height": 527
        },
        "outputId": "e25f6cdc-cac2-4f8f-9565-f734b659cb3c"
      },
      "source": [
        "## TODO: Train your model with dropout, and monitor the training progress with the validation loss and accuracy\n",
        "model = Classifier()\n",
        "criterion = nn.NLLLoss()\n",
        "optimizer = optim.Adam(model.parameters(), lr=0.003)\n",
        "\n",
        "epochs = 30\n",
        "steps = 0\n",
        "\n",
        "train_losses, test_losses = [], []\n",
        "for e in range(epochs):\n",
        "    running_loss = 0\n",
        "    for images, labels in trainloader: \n",
        "        optimizer.zero_grad()\n",
        "        log_ps = model(images)\n",
        "        loss = criterion(log_ps, labels)\n",
        "        loss.backward()\n",
        "        optimizer.step()\n",
        "        running_loss += loss.item()\n",
        "        \n",
        "    else:\n",
        "        test_loss = 0\n",
        "        accuracy = 0\n",
        "        with torch.no_grad():\n",
        "          model.eval()\n",
        "          for images, labels in testloader:\n",
        "            log_ps = model(images)\n",
        "            test_loss += criterion(log_ps, labels)\n",
        "            ps = torch.exp(log_ps)\n",
        "            top_p, top_class = ps.topk(1, dim=1)\n",
        "            equals = top_class == labels.view(*top_class.shape)\n",
        "            accuracy += torch.mean(equals.type(torch.FloatTensor))\n",
        "        \n",
        "        train_losses.append(running_loss/len(trainloader))\n",
        "        test_losses.append(test_loss/len(testloader))\n",
        "        model.train()\n",
        "        print(\"Epoch: {}/{}.. \".format(e+1, epochs),\n",
        "              \"Training Loss: {:.3f}.. \".format(running_loss/len(trainloader)),\n",
        "              \"Test Loss: {:.3f}.. \".format(test_loss/len(testloader)),\n",
        "              \"Test Accuracy: {:.3f}\".format(accuracy/len(testloader)))"
      ],
      "execution_count": 5,
      "outputs": [
        {
          "output_type": "stream",
          "text": [
            "Epoch: 1/30..  Training Loss: 0.620..  Test Loss: 0.482..  Test Accuracy: 0.823\n",
            "Epoch: 2/30..  Training Loss: 0.482..  Test Loss: 0.438..  Test Accuracy: 0.841\n",
            "Epoch: 3/30..  Training Loss: 0.450..  Test Loss: 0.417..  Test Accuracy: 0.851\n",
            "Epoch: 4/30..  Training Loss: 0.436..  Test Loss: 0.405..  Test Accuracy: 0.852\n",
            "Epoch: 5/30..  Training Loss: 0.424..  Test Loss: 0.452..  Test Accuracy: 0.838\n",
            "Epoch: 6/30..  Training Loss: 0.412..  Test Loss: 0.401..  Test Accuracy: 0.861\n",
            "Epoch: 7/30..  Training Loss: 0.400..  Test Loss: 0.393..  Test Accuracy: 0.863\n",
            "Epoch: 8/30..  Training Loss: 0.402..  Test Loss: 0.387..  Test Accuracy: 0.865\n",
            "Epoch: 9/30..  Training Loss: 0.390..  Test Loss: 0.386..  Test Accuracy: 0.864\n",
            "Epoch: 10/30..  Training Loss: 0.389..  Test Loss: 0.408..  Test Accuracy: 0.859\n",
            "Epoch: 11/30..  Training Loss: 0.387..  Test Loss: 0.394..  Test Accuracy: 0.860\n",
            "Epoch: 12/30..  Training Loss: 0.379..  Test Loss: 0.384..  Test Accuracy: 0.867\n",
            "Epoch: 13/30..  Training Loss: 0.384..  Test Loss: 0.385..  Test Accuracy: 0.867\n",
            "Epoch: 14/30..  Training Loss: 0.385..  Test Loss: 0.388..  Test Accuracy: 0.862\n",
            "Epoch: 15/30..  Training Loss: 0.378..  Test Loss: 0.397..  Test Accuracy: 0.862\n",
            "Epoch: 16/30..  Training Loss: 0.369..  Test Loss: 0.381..  Test Accuracy: 0.868\n",
            "Epoch: 17/30..  Training Loss: 0.375..  Test Loss: 0.384..  Test Accuracy: 0.864\n",
            "Epoch: 18/30..  Training Loss: 0.363..  Test Loss: 0.386..  Test Accuracy: 0.864\n",
            "Epoch: 19/30..  Training Loss: 0.360..  Test Loss: 0.390..  Test Accuracy: 0.865\n",
            "Epoch: 20/30..  Training Loss: 0.359..  Test Loss: 0.360..  Test Accuracy: 0.875\n",
            "Epoch: 21/30..  Training Loss: 0.351..  Test Loss: 0.382..  Test Accuracy: 0.869\n",
            "Epoch: 22/30..  Training Loss: 0.365..  Test Loss: 0.377..  Test Accuracy: 0.872\n",
            "Epoch: 23/30..  Training Loss: 0.356..  Test Loss: 0.388..  Test Accuracy: 0.869\n",
            "Epoch: 24/30..  Training Loss: 0.346..  Test Loss: 0.366..  Test Accuracy: 0.875\n",
            "Epoch: 25/30..  Training Loss: 0.356..  Test Loss: 0.395..  Test Accuracy: 0.866\n",
            "Epoch: 26/30..  Training Loss: 0.346..  Test Loss: 0.367..  Test Accuracy: 0.876\n",
            "Epoch: 27/30..  Training Loss: 0.353..  Test Loss: 0.378..  Test Accuracy: 0.877\n",
            "Epoch: 28/30..  Training Loss: 0.343..  Test Loss: 0.428..  Test Accuracy: 0.861\n",
            "Epoch: 29/30..  Training Loss: 0.346..  Test Loss: 0.359..  Test Accuracy: 0.879\n",
            "Epoch: 30/30..  Training Loss: 0.345..  Test Loss: 0.374..  Test Accuracy: 0.879\n"
          ],
          "name": "stdout"
        }
      ]
    },
    {
      "cell_type": "code",
      "metadata": {
        "id": "RQfDXBUYuLSv",
        "colab_type": "code",
        "colab": {}
      },
      "source": [
        "%matplotlib inline\n",
        "%config InlineBackend.figure_format = 'retina'\n",
        "\n",
        "import matplotlib.pyplot as plt"
      ],
      "execution_count": 0,
      "outputs": []
    },
    {
      "cell_type": "code",
      "metadata": {
        "id": "Go_uj1zxwibC",
        "colab_type": "code",
        "colab": {
          "base_uri": "https://localhost:8080/",
          "height": 282
        },
        "outputId": "367398b5-1c52-4068-ac75-0594515c7bd5"
      },
      "source": [
        "plt.plot(train_losses, label='Training loss')\n",
        "plt.plot(test_losses, label='Validation loss')\n",
        "plt.legend(frameon=False)"
      ],
      "execution_count": 7,
      "outputs": [
        {
          "output_type": "execute_result",
          "data": {
            "text/plain": [
              "<matplotlib.legend.Legend at 0x7fee91f890b8>"
            ]
          },
          "metadata": {
            "tags": []
          },
          "execution_count": 7
        },
        {
          "output_type": "display_data",
          "data": {
            "image/png": "[encoded data removed]",
            "text/plain": [
              "<Figure size 432x288 with 1 Axes>"
            ]
          },
          "metadata": {
            "tags": [],
            "image/png": {
              "width": 380,
              "height": 248
            }
          }
        }
      ]
    },
    {
      "cell_type": "code",
      "metadata": {
        "id": "Rcyclvq5w3gx",
        "colab_type": "code",
        "colab": {}
      },
      "source": [
        "def view_classify(img, ps, version=\"MNIST\"):\n",
        "    ''' Function for viewing an image and it's predicted classes.\n",
        "    '''\n",
        "    ps = ps.data.numpy().squeeze()\n",
        "\n",
        "    fig, (ax1, ax2) = plt.subplots(figsize=(6,9), ncols=2)\n",
        "    ax1.imshow(img.resize_(1, 28, 28).numpy().squeeze())\n",
        "    ax1.axis('off')\n",
        "    ax2.barh(np.arange(10), ps)\n",
        "    ax2.set_aspect(0.1)\n",
        "    ax2.set_yticks(np.arange(10))\n",
        "    if version == \"MNIST\":\n",
        "        ax2.set_yticklabels(np.arange(10))\n",
        "    elif version == \"Fashion\":\n",
        "        ax2.set_yticklabels(['T-shirt/top',\n",
        "                            'Trouser',\n",
        "                            'Pullover',\n",
        "                            'Dress',\n",
        "                            'Coat',\n",
        "                            'Sandal',\n",
        "                            'Shirt',\n",
        "                            'Sneaker',\n",
        "                            'Bag',\n",
        "                            'Ankle Boot'], size='small');\n",
        "    ax2.set_title('Class Probability')\n",
        "    ax2.set_xlim(0, 1.1)\n",
        "\n",
        "    plt.tight_layout()"
      ],
      "execution_count": 0,
      "outputs": []
    },
    {
      "cell_type": "code",
      "metadata": {
        "id": "YRvyF_oSwkOW",
        "colab_type": "code",
        "colab": {
          "base_uri": "https://localhost:8080/",
          "height": 233
        },
        "outputId": "6d8b9944-4ec5-453b-8fba-a6f5de065a93"
      },
      "source": [
        "import numpy as np\n",
        "\n",
        "model.eval()\n",
        "\n",
        "dataiter = iter(testloader)\n",
        "images, labels = dataiter.next()\n",
        "img = images[0]\n",
        "# Convert 2D image to 1D vector\n",
        "img = img.view(1, 784)\n",
        "\n",
        "# Calculate the class probabilities (softmax) for img\n",
        "with torch.no_grad():\n",
        "    output = model.forward(img)\n",
        "\n",
        "ps = torch.exp(output)\n",
        "\n",
        "# Plot the image and probabilities\n",
        "view_classify(img.view(1, 28, 28), ps, version='Fashion')"
      ],
      "execution_count": 10,
      "outputs": [
        {
          "output_type": "display_data",
          "data": {
            "image/png": "[encoded data removed]",
            "text/plain": [
              "<Figure size 432x648 with 2 Axes>"
            ]
          },
          "metadata": {
            "tags": [],
            "image/png": {
              "width": 424,
              "height": 216
            }
          }
        }
      ]
    },
    {
      "cell_type": "code",
      "metadata": {
        "id": "uVKq33uOxGxt",
        "colab_type": "code",
        "colab": {}
      },
      "source": [
        ""
      ],
      "execution_count": 0,
      "outputs": []
    }
  ]
}