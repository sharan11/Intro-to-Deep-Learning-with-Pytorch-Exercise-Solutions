{
  "nbformat": 4,
  "nbformat_minor": 0,
  "metadata": {
    "colab": {
      "name": "Tensors in pytorch - Solution.ipynb",
      "provenance": [],
      "include_colab_link": true
    },
    "kernelspec": {
      "name": "python3",
      "display_name": "Python 3"
    }
  },
  "cells": [
    {
      "cell_type": "markdown",
      "metadata": {
        "id": "view-in-github",
        "colab_type": "text"
      },
      "source": [
        "<a href=\"https://colab.research.google.com/github/sharan11/Intro-to-Deep-Learning-with-Pytorch-Exercise-Solutions/blob/master/Tensors_in_pytorch_Solution.ipynb\" target=\"_parent\"><img src=\"https://colab.research.google.com/assets/colab-badge.svg\" alt=\"Open In Colab\"/></a>"
      ]
    },
    {
      "cell_type": "code",
      "metadata": {
        "id": "OuKrvvxnxugf",
        "colab_type": "code",
        "colab": {}
      },
      "source": [
        "#Importing pytorch\n",
        "import torch"
      ],
      "execution_count": 0,
      "outputs": []
    },
    {
      "cell_type": "code",
      "metadata": {
        "id": "acQ4AlI3xxFH",
        "colab_type": "code",
        "colab": {}
      },
      "source": [
        "def activation(x):\n",
        "    \"\"\" Sigmoid activation function \n",
        "    \n",
        "        Arguments\n",
        "        ---------\n",
        "        x: torch.Tensor\n",
        "    \"\"\"\n",
        "    return 1/(1+torch.exp(-x))"
      ],
      "execution_count": 0,
      "outputs": []
    },
    {
      "cell_type": "code",
      "metadata": {
        "id": "-0LXBsIcyGk-",
        "colab_type": "code",
        "colab": {}
      },
      "source": [
        "### Generate some data\n",
        "torch.manual_seed(7) # Set the random seed so things are predictable\n",
        "\n",
        "# Features are 5 random normal variables\n",
        "features = torch.randn((1, 5))\n",
        "# True weights for our data, random normal variables again\n",
        "weights = torch.randn_like(features)\n",
        "# and a true bias term\n",
        "bias = torch.randn((1, 1))"
      ],
      "execution_count": 0,
      "outputs": []
    },
    {
      "cell_type": "code",
      "metadata": {
        "id": "-Yi1VxUVy3_U",
        "colab_type": "code",
        "outputId": "a91bac44-15eb-4080-fe48-5146128ca338",
        "colab": {
          "base_uri": "https://localhost:8080/",
          "height": 34
        }
      },
      "source": [
        "weights.shape"
      ],
      "execution_count": 65,
      "outputs": [
        {
          "output_type": "execute_result",
          "data": {
            "text/plain": [
              "torch.Size([1, 5])"
            ]
          },
          "metadata": {
            "tags": []
          },
          "execution_count": 65
        }
      ]
    },
    {
      "cell_type": "markdown",
      "metadata": {
        "id": "B_yFXY1kaCGW",
        "colab_type": "text"
      },
      "source": [
        "Exercise: Calculate the output of the network with input features features, weights weights, and bias bias. Similar to Numpy, PyTorch has a torch.sum() function, as well as a .sum() method on tensors, for taking sums. Use the function activation defined above as the activation function."
      ]
    },
    {
      "cell_type": "code",
      "metadata": {
        "id": "KD2V95KXLueq",
        "colab_type": "code",
        "colab": {
          "base_uri": "https://localhost:8080/",
          "height": 34
        },
        "outputId": "0f15479e-4f2e-4034-9440-95cad1232897"
      },
      "source": [
        "## Calculate the output of this network using the weights and bias tensors\n",
        "y = activation(torch.sum(features*weights) + bias)\n",
        "print(y)"
      ],
      "execution_count": 66,
      "outputs": [
        {
          "output_type": "stream",
          "text": [
            "tensor([[0.1595]])\n"
          ],
          "name": "stdout"
        }
      ]
    },
    {
      "cell_type": "code",
      "metadata": {
        "id": "5p9edIhYaj7n",
        "colab_type": "code",
        "colab": {
          "base_uri": "https://localhost:8080/",
          "height": 34
        },
        "outputId": "31aa586e-3a89-4f52-94c7-993e38a62e4b"
      },
      "source": [
        "## Calculate the output of this network using matrix multiplication\n",
        "y = activation(torch.mm(features,weights.view(5,1)) + bias)\n",
        "print(y)"
      ],
      "execution_count": 67,
      "outputs": [
        {
          "output_type": "stream",
          "text": [
            "tensor([[0.1595]])\n"
          ],
          "name": "stdout"
        }
      ]
    },
    {
      "cell_type": "markdown",
      "metadata": {
        "id": "svIVYipLbD0o",
        "colab_type": "text"
      },
      "source": [
        "### Stack them up!"
      ]
    },
    {
      "cell_type": "code",
      "metadata": {
        "id": "ldHaDTib88lz",
        "colab_type": "code",
        "colab": {}
      },
      "source": [
        "### Generate some data\n",
        "torch.manual_seed(7) # Set the random seed so things are predictable\n",
        "\n",
        "# Features are 3 random normal variables\n",
        "features = torch.randn((1, 3))\n",
        "\n",
        "# Define the size of each layer in our network\n",
        "n_input = features.shape[1]     # Number of input units, must match number of input features\n",
        "n_hidden = 2                    # Number of hidden units \n",
        "n_output = 1                    # Number of output units\n",
        "\n",
        "# Weights for inputs to hidden layer\n",
        "W1 = torch.randn(n_input, n_hidden)\n",
        "# Weights for hidden layer to output layer\n",
        "W2 = torch.randn(n_hidden, n_output)\n",
        "\n",
        "# and bias terms for hidden and output layers\n",
        "B1 = torch.randn((1, n_hidden))\n",
        "B2 = torch.randn((1, n_output))"
      ],
      "execution_count": 0,
      "outputs": []
    },
    {
      "cell_type": "markdown",
      "metadata": {
        "id": "PRZLx47tbKq3",
        "colab_type": "text"
      },
      "source": [
        "**Exercise:** Calculate the output for this multi-layer network using the weights W1 & W2, and the biases, B1 & B2."
      ]
    },
    {
      "cell_type": "code",
      "metadata": {
        "id": "-Qd-ItGzJr2B",
        "colab_type": "code",
        "colab": {}
      },
      "source": [
        "h1 = activation(torch.mm(features,W1)+B1)"
      ],
      "execution_count": 0,
      "outputs": []
    },
    {
      "cell_type": "code",
      "metadata": {
        "id": "ap7grVp5KSHi",
        "colab_type": "code",
        "outputId": "787ea73c-7d9a-4b78-8804-8c9915ceccf9",
        "colab": {
          "base_uri": "https://localhost:8080/",
          "height": 34
        }
      },
      "source": [
        "h1"
      ],
      "execution_count": 73,
      "outputs": [
        {
          "output_type": "execute_result",
          "data": {
            "text/plain": [
              "tensor([[0.6813, 0.4355]])"
            ]
          },
          "metadata": {
            "tags": []
          },
          "execution_count": 73
        }
      ]
    },
    {
      "cell_type": "code",
      "metadata": {
        "id": "j1m1_gZdM19N",
        "colab_type": "code",
        "outputId": "343e625d-579e-4d06-a6c7-16e979d1765e",
        "colab": {
          "base_uri": "https://localhost:8080/",
          "height": 34
        }
      },
      "source": [
        "## Your solution here\n",
        "output = activation(torch.mm(h1, W2) + B2)\n",
        "print(output)"
      ],
      "execution_count": 74,
      "outputs": [
        {
          "output_type": "stream",
          "text": [
            "tensor([[0.3171]])\n"
          ],
          "name": "stdout"
        }
      ]
    },
    {
      "cell_type": "markdown",
      "metadata": {
        "id": "cEUlRVXFbbNT",
        "colab_type": "text"
      },
      "source": [
        "### Numpy to Torch and back"
      ]
    },
    {
      "cell_type": "code",
      "metadata": {
        "id": "sm2MjvAOKS6R",
        "colab_type": "code",
        "outputId": "f58a7819-ca21-4567-a610-2df4c727c5bd",
        "colab": {
          "base_uri": "https://localhost:8080/",
          "height": 85
        }
      },
      "source": [
        "import numpy as np\n",
        "a = np.random.rand(4,3)\n",
        "a"
      ],
      "execution_count": 75,
      "outputs": [
        {
          "output_type": "execute_result",
          "data": {
            "text/plain": [
              "array([[0.66269531, 0.16428823, 0.46074136],\n",
              "       [0.9048801 , 0.10294873, 0.42955963],\n",
              "       [0.94890492, 0.52612125, 0.63947146],\n",
              "       [0.86016393, 0.93815094, 0.65431759]])"
            ]
          },
          "metadata": {
            "tags": []
          },
          "execution_count": 75
        }
      ]
    },
    {
      "cell_type": "code",
      "metadata": {
        "id": "jbxMzDeELMXz",
        "colab_type": "code",
        "outputId": "4ba86b64-dac1-4c1c-83d8-e716b02a9ae9",
        "colab": {
          "base_uri": "https://localhost:8080/",
          "height": 85
        }
      },
      "source": [
        "b = torch.from_numpy(a)\n",
        "b"
      ],
      "execution_count": 76,
      "outputs": [
        {
          "output_type": "execute_result",
          "data": {
            "text/plain": [
              "tensor([[0.6627, 0.1643, 0.4607],\n",
              "        [0.9049, 0.1029, 0.4296],\n",
              "        [0.9489, 0.5261, 0.6395],\n",
              "        [0.8602, 0.9382, 0.6543]], dtype=torch.float64)"
            ]
          },
          "metadata": {
            "tags": []
          },
          "execution_count": 76
        }
      ]
    },
    {
      "cell_type": "code",
      "metadata": {
        "id": "r_3o7LQBLO6_",
        "colab_type": "code",
        "outputId": "178bc4e2-5f16-47c5-e02a-59bc8ccac1fc",
        "colab": {
          "base_uri": "https://localhost:8080/",
          "height": 85
        }
      },
      "source": [
        "\n",
        "b.numpy()"
      ],
      "execution_count": 77,
      "outputs": [
        {
          "output_type": "execute_result",
          "data": {
            "text/plain": [
              "array([[0.66269531, 0.16428823, 0.46074136],\n",
              "       [0.9048801 , 0.10294873, 0.42955963],\n",
              "       [0.94890492, 0.52612125, 0.63947146],\n",
              "       [0.86016393, 0.93815094, 0.65431759]])"
            ]
          },
          "metadata": {
            "tags": []
          },
          "execution_count": 77
        }
      ]
    },
    {
      "cell_type": "code",
      "metadata": {
        "id": "vg5o9G5cLR19",
        "colab_type": "code",
        "outputId": "224b181d-7d1f-4681-84dd-4ef12927a8ba",
        "colab": {
          "base_uri": "https://localhost:8080/",
          "height": 85
        }
      },
      "source": [
        "b.mul_(2)"
      ],
      "execution_count": 78,
      "outputs": [
        {
          "output_type": "execute_result",
          "data": {
            "text/plain": [
              "tensor([[1.3254, 0.3286, 0.9215],\n",
              "        [1.8098, 0.2059, 0.8591],\n",
              "        [1.8978, 1.0522, 1.2789],\n",
              "        [1.7203, 1.8763, 1.3086]], dtype=torch.float64)"
            ]
          },
          "metadata": {
            "tags": []
          },
          "execution_count": 78
        }
      ]
    },
    {
      "cell_type": "code",
      "metadata": {
        "id": "QSCG766HLVyC",
        "colab_type": "code",
        "outputId": "827efb06-e297-41df-f1ee-3f1a8a820e2b",
        "colab": {
          "base_uri": "https://localhost:8080/",
          "height": 85
        }
      },
      "source": [
        "a"
      ],
      "execution_count": 79,
      "outputs": [
        {
          "output_type": "execute_result",
          "data": {
            "text/plain": [
              "array([[1.32539062, 0.32857645, 0.92148272],\n",
              "       [1.80976021, 0.20589745, 0.85911926],\n",
              "       [1.89780984, 1.05224251, 1.27894293],\n",
              "       [1.72032786, 1.87630188, 1.30863517]])"
            ]
          },
          "metadata": {
            "tags": []
          },
          "execution_count": 79
        }
      ]
    },
    {
      "cell_type": "code",
      "metadata": {
        "id": "ua8_B_RpLYzq",
        "colab_type": "code",
        "colab": {}
      },
      "source": [
        ""
      ],
      "execution_count": 0,
      "outputs": []
    }
  ]
}